{
 "cells": [
  {
   "cell_type": "code",
   "execution_count": 2,
   "metadata": {},
   "outputs": [],
   "source": [
    "### goal1: make baseline classifier model\n",
    "###        - use 3 different algorithms (lr, DNN, other)\n",
    "### goal2: use feature engineering\n",
    "### goll3: optimize hyperparameters\n",
    "### goal4: make blending and stacking model"
   ]
  },
  {
   "cell_type": "code",
   "execution_count": 3,
   "metadata": {
    "pycharm": {
     "name": "#%%\n"
    }
   },
   "outputs": [],
   "source": [
    "import pandas as pd"
   ]
  },
  {
   "cell_type": "code",
   "execution_count": 4,
   "metadata": {
    "pycharm": {
     "name": "#%%\n"
    }
   },
   "outputs": [
    {
     "data": {
      "text/html": [
       "<div>\n",
       "<style scoped>\n",
       "    .dataframe tbody tr th:only-of-type {\n",
       "        vertical-align: middle;\n",
       "    }\n",
       "\n",
       "    .dataframe tbody tr th {\n",
       "        vertical-align: top;\n",
       "    }\n",
       "\n",
       "    .dataframe thead th {\n",
       "        text-align: right;\n",
       "    }\n",
       "</style>\n",
       "<table border=\"1\" class=\"dataframe\">\n",
       "  <thead>\n",
       "    <tr style=\"text-align: right;\">\n",
       "      <th></th>\n",
       "      <th>gender</th>\n",
       "      <th>race/ethnicity</th>\n",
       "      <th>parental level of education</th>\n",
       "      <th>lunch</th>\n",
       "      <th>test preparation course</th>\n",
       "      <th>math score</th>\n",
       "      <th>reading score</th>\n",
       "      <th>writing score</th>\n",
       "    </tr>\n",
       "  </thead>\n",
       "  <tbody>\n",
       "    <tr>\n",
       "      <th>0</th>\n",
       "      <td>female</td>\n",
       "      <td>group B</td>\n",
       "      <td>bachelor's degree</td>\n",
       "      <td>standard</td>\n",
       "      <td>none</td>\n",
       "      <td>72</td>\n",
       "      <td>72</td>\n",
       "      <td>74</td>\n",
       "    </tr>\n",
       "    <tr>\n",
       "      <th>1</th>\n",
       "      <td>female</td>\n",
       "      <td>group C</td>\n",
       "      <td>some college</td>\n",
       "      <td>standard</td>\n",
       "      <td>completed</td>\n",
       "      <td>69</td>\n",
       "      <td>90</td>\n",
       "      <td>88</td>\n",
       "    </tr>\n",
       "    <tr>\n",
       "      <th>2</th>\n",
       "      <td>female</td>\n",
       "      <td>group B</td>\n",
       "      <td>master's degree</td>\n",
       "      <td>standard</td>\n",
       "      <td>none</td>\n",
       "      <td>90</td>\n",
       "      <td>95</td>\n",
       "      <td>93</td>\n",
       "    </tr>\n",
       "    <tr>\n",
       "      <th>3</th>\n",
       "      <td>male</td>\n",
       "      <td>group A</td>\n",
       "      <td>associate's degree</td>\n",
       "      <td>free/reduced</td>\n",
       "      <td>none</td>\n",
       "      <td>47</td>\n",
       "      <td>57</td>\n",
       "      <td>44</td>\n",
       "    </tr>\n",
       "    <tr>\n",
       "      <th>4</th>\n",
       "      <td>male</td>\n",
       "      <td>group C</td>\n",
       "      <td>some college</td>\n",
       "      <td>standard</td>\n",
       "      <td>none</td>\n",
       "      <td>76</td>\n",
       "      <td>78</td>\n",
       "      <td>75</td>\n",
       "    </tr>\n",
       "    <tr>\n",
       "      <th>5</th>\n",
       "      <td>female</td>\n",
       "      <td>group B</td>\n",
       "      <td>associate's degree</td>\n",
       "      <td>standard</td>\n",
       "      <td>none</td>\n",
       "      <td>71</td>\n",
       "      <td>83</td>\n",
       "      <td>78</td>\n",
       "    </tr>\n",
       "    <tr>\n",
       "      <th>6</th>\n",
       "      <td>female</td>\n",
       "      <td>group B</td>\n",
       "      <td>some college</td>\n",
       "      <td>standard</td>\n",
       "      <td>completed</td>\n",
       "      <td>88</td>\n",
       "      <td>95</td>\n",
       "      <td>92</td>\n",
       "    </tr>\n",
       "    <tr>\n",
       "      <th>7</th>\n",
       "      <td>male</td>\n",
       "      <td>group B</td>\n",
       "      <td>some college</td>\n",
       "      <td>free/reduced</td>\n",
       "      <td>none</td>\n",
       "      <td>40</td>\n",
       "      <td>43</td>\n",
       "      <td>39</td>\n",
       "    </tr>\n",
       "    <tr>\n",
       "      <th>8</th>\n",
       "      <td>male</td>\n",
       "      <td>group D</td>\n",
       "      <td>high school</td>\n",
       "      <td>free/reduced</td>\n",
       "      <td>completed</td>\n",
       "      <td>64</td>\n",
       "      <td>64</td>\n",
       "      <td>67</td>\n",
       "    </tr>\n",
       "    <tr>\n",
       "      <th>9</th>\n",
       "      <td>female</td>\n",
       "      <td>group B</td>\n",
       "      <td>high school</td>\n",
       "      <td>free/reduced</td>\n",
       "      <td>none</td>\n",
       "      <td>38</td>\n",
       "      <td>60</td>\n",
       "      <td>50</td>\n",
       "    </tr>\n",
       "  </tbody>\n",
       "</table>\n",
       "</div>"
      ],
      "text/plain": [
       "   gender race/ethnicity parental level of education         lunch  \\\n",
       "0  female        group B           bachelor's degree      standard   \n",
       "1  female        group C                some college      standard   \n",
       "2  female        group B             master's degree      standard   \n",
       "3    male        group A          associate's degree  free/reduced   \n",
       "4    male        group C                some college      standard   \n",
       "5  female        group B          associate's degree      standard   \n",
       "6  female        group B                some college      standard   \n",
       "7    male        group B                some college  free/reduced   \n",
       "8    male        group D                 high school  free/reduced   \n",
       "9  female        group B                 high school  free/reduced   \n",
       "\n",
       "  test preparation course  math score  reading score  writing score  \n",
       "0                    none          72             72             74  \n",
       "1               completed          69             90             88  \n",
       "2                    none          90             95             93  \n",
       "3                    none          47             57             44  \n",
       "4                    none          76             78             75  \n",
       "5                    none          71             83             78  \n",
       "6               completed          88             95             92  \n",
       "7                    none          40             43             39  \n",
       "8               completed          64             64             67  \n",
       "9                    none          38             60             50  "
      ]
     },
     "execution_count": 4,
     "metadata": {},
     "output_type": "execute_result"
    }
   ],
   "source": [
    "df = pd.read_csv(\"../input/StudentsPerformance.csv\")\n",
    "df.head(10)"
   ]
  },
  {
   "cell_type": "code",
   "execution_count": 5,
   "metadata": {
    "pycharm": {
     "name": "#%%\n"
    }
   },
   "outputs": [
    {
     "name": "stdout",
     "output_type": "stream",
     "text": [
      "<class 'pandas.core.frame.DataFrame'>\n",
      "RangeIndex: 1000 entries, 0 to 999\n",
      "Data columns (total 8 columns):\n",
      " #   Column                       Non-Null Count  Dtype \n",
      "---  ------                       --------------  ----- \n",
      " 0   gender                       1000 non-null   object\n",
      " 1   race/ethnicity               1000 non-null   object\n",
      " 2   parental level of education  1000 non-null   object\n",
      " 3   lunch                        1000 non-null   object\n",
      " 4   test preparation course      1000 non-null   object\n",
      " 5   math score                   1000 non-null   int64 \n",
      " 6   reading score                1000 non-null   int64 \n",
      " 7   writing score                1000 non-null   int64 \n",
      "dtypes: int64(3), object(5)\n",
      "memory usage: 62.6+ KB\n"
     ]
    },
    {
     "data": {
      "text/plain": [
       "(1000, 8)"
      ]
     },
     "execution_count": 5,
     "metadata": {},
     "output_type": "execute_result"
    }
   ],
   "source": [
    "df.info()\n",
    "df.shape"
   ]
  },
  {
   "cell_type": "code",
   "execution_count": 6,
   "metadata": {
    "pycharm": {
     "name": "#%%\n"
    }
   },
   "outputs": [
    {
     "data": {
      "text/plain": [
       "Index(['gender', 'race/ethnicity', 'parental level of education', 'lunch',\n",
       "       'test preparation course', 'math score', 'reading score',\n",
       "       'writing score'],\n",
       "      dtype='object')"
      ]
     },
     "execution_count": 6,
     "metadata": {},
     "output_type": "execute_result"
    }
   ],
   "source": [
    "df.columns"
   ]
  },
  {
   "cell_type": "code",
   "execution_count": 7,
   "metadata": {
    "pycharm": {
     "name": "#%%\n"
    }
   },
   "outputs": [
    {
     "name": "stderr",
     "output_type": "stream",
     "text": [
      "/Users/akifumiabe/.conda/envs/cat-in-the-dat-ii/lib/python3.8/site-packages/seaborn/distributions.py:2551: FutureWarning: `distplot` is a deprecated function and will be removed in a future version. Please adapt your code to use either `displot` (a figure-level function with similar flexibility) or `histplot` (an axes-level function for histograms).\n",
      "  warnings.warn(msg, FutureWarning)\n"
     ]
    },
    {
     "data": {
      "image/png": "[encoded data removed]",
      "text/plain": [
       "<Figure size 432x288 with 1 Axes>"
      ]
     },
     "metadata": {
      "needs_background": "light"
     },
     "output_type": "display_data"
    },
    {
     "name": "stderr",
     "output_type": "stream",
     "text": [
      "/Users/akifumiabe/.conda/envs/cat-in-the-dat-ii/lib/python3.8/site-packages/seaborn/distributions.py:2551: FutureWarning: `distplot` is a deprecated function and will be removed in a future version. Please adapt your code to use either `displot` (a figure-level function with similar flexibility) or `histplot` (an axes-level function for histograms).\n",
      "  warnings.warn(msg, FutureWarning)\n"
     ]
    },
    {
     "data": {
      "image/png": "[encoded data removed]",
      "text/plain": [
       "<Figure size 432x288 with 1 Axes>"
      ]
     },
     "metadata": {
      "needs_background": "light"
     },
     "output_type": "display_data"
    },
    {
     "name": "stderr",
     "output_type": "stream",
     "text": [
      "/Users/akifumiabe/.conda/envs/cat-in-the-dat-ii/lib/python3.8/site-packages/seaborn/distributions.py:2551: FutureWarning: `distplot` is a deprecated function and will be removed in a future version. Please adapt your code to use either `displot` (a figure-level function with similar flexibility) or `histplot` (an axes-level function for histograms).\n",
      "  warnings.warn(msg, FutureWarning)\n"
     ]
    },
    {
     "data": {
      "image/png": "[encoded data removed]",
      "text/plain": [
       "<Figure size 432x288 with 1 Axes>"
      ]
     },
     "metadata": {
      "needs_background": "light"
     },
     "output_type": "display_data"
    }
   ],
   "source": [
    "import seaborn as sns\n",
    "import matplotlib.pyplot as plt\n",
    "\n",
    "sns.distplot(df[\"math score\"])\n",
    "plt.show()\n",
    "\n",
    "sns.distplot(df[\"reading score\"])\n",
    "plt.show()\n",
    "\n",
    "sns.distplot(df[\"writing score\"])\n",
    "plt.show()"
   ]
  },
  {
   "cell_type": "code",
   "execution_count": 8,
   "metadata": {
    "pycharm": {
     "name": "#%%\n"
    }
   },
   "outputs": [],
   "source": [
    "for i in range(len(df)):\n",
    "    total_score = df.loc[i, \"math score\"] + df.loc[i, \"reading score\"] + df.loc[i, \"writing score\"]\n",
    "    if total_score > 180:\n",
    "        df.loc[i, \"pass\"] = 1\n",
    "    else:\n",
    "        df.loc[i, \"pass\"] = 0"
   ]
  },
  {
   "cell_type": "code",
   "execution_count": 9,
   "metadata": {
    "pycharm": {
     "name": "#%%\n"
    }
   },
   "outputs": [
    {
     "data": {
      "text/html": [
       "<div>\n",
       "<style scoped>\n",
       "    .dataframe tbody tr th:only-of-type {\n",
       "        vertical-align: middle;\n",
       "    }\n",
       "\n",
       "    .dataframe tbody tr th {\n",
       "        vertical-align: top;\n",
       "    }\n",
       "\n",
       "    .dataframe thead th {\n",
       "        text-align: right;\n",
       "    }\n",
       "</style>\n",
       "<table border=\"1\" class=\"dataframe\">\n",
       "  <thead>\n",
       "    <tr style=\"text-align: right;\">\n",
       "      <th></th>\n",
       "      <th>gender</th>\n",
       "      <th>race/ethnicity</th>\n",
       "      <th>parental level of education</th>\n",
       "      <th>lunch</th>\n",
       "      <th>test preparation course</th>\n",
       "      <th>math score</th>\n",
       "      <th>reading score</th>\n",
       "      <th>writing score</th>\n",
       "      <th>pass</th>\n",
       "    </tr>\n",
       "  </thead>\n",
       "  <tbody>\n",
       "    <tr>\n",
       "      <th>0</th>\n",
       "      <td>female</td>\n",
       "      <td>group B</td>\n",
       "      <td>bachelor's degree</td>\n",
       "      <td>standard</td>\n",
       "      <td>none</td>\n",
       "      <td>72</td>\n",
       "      <td>72</td>\n",
       "      <td>74</td>\n",
       "      <td>1.0</td>\n",
       "    </tr>\n",
       "    <tr>\n",
       "      <th>1</th>\n",
       "      <td>female</td>\n",
       "      <td>group C</td>\n",
       "      <td>some college</td>\n",
       "      <td>standard</td>\n",
       "      <td>completed</td>\n",
       "      <td>69</td>\n",
       "      <td>90</td>\n",
       "      <td>88</td>\n",
       "      <td>1.0</td>\n",
       "    </tr>\n",
       "    <tr>\n",
       "      <th>2</th>\n",
       "      <td>female</td>\n",
       "      <td>group B</td>\n",
       "      <td>master's degree</td>\n",
       "      <td>standard</td>\n",
       "      <td>none</td>\n",
       "      <td>90</td>\n",
       "      <td>95</td>\n",
       "      <td>93</td>\n",
       "      <td>1.0</td>\n",
       "    </tr>\n",
       "    <tr>\n",
       "      <th>3</th>\n",
       "      <td>male</td>\n",
       "      <td>group A</td>\n",
       "      <td>associate's degree</td>\n",
       "      <td>free/reduced</td>\n",
       "      <td>none</td>\n",
       "      <td>47</td>\n",
       "      <td>57</td>\n",
       "      <td>44</td>\n",
       "      <td>0.0</td>\n",
       "    </tr>\n",
       "    <tr>\n",
       "      <th>4</th>\n",
       "      <td>male</td>\n",
       "      <td>group C</td>\n",
       "      <td>some college</td>\n",
       "      <td>standard</td>\n",
       "      <td>none</td>\n",
       "      <td>76</td>\n",
       "      <td>78</td>\n",
       "      <td>75</td>\n",
       "      <td>1.0</td>\n",
       "    </tr>\n",
       "  </tbody>\n",
       "</table>\n",
       "</div>"
      ],
      "text/plain": [
       "   gender race/ethnicity parental level of education         lunch  \\\n",
       "0  female        group B           bachelor's degree      standard   \n",
       "1  female        group C                some college      standard   \n",
       "2  female        group B             master's degree      standard   \n",
       "3    male        group A          associate's degree  free/reduced   \n",
       "4    male        group C                some college      standard   \n",
       "\n",
       "  test preparation course  math score  reading score  writing score  pass  \n",
       "0                    none          72             72             74   1.0  \n",
       "1               completed          69             90             88   1.0  \n",
       "2                    none          90             95             93   1.0  \n",
       "3                    none          47             57             44   0.0  \n",
       "4                    none          76             78             75   1.0  "
      ]
     },
     "execution_count": 9,
     "metadata": {},
     "output_type": "execute_result"
    }
   ],
   "source": [
    "df.head()"
   ]
  },
  {
   "cell_type": "code",
   "execution_count": 10,
   "metadata": {
    "pycharm": {
     "name": "#%%\n"
    }
   },
   "outputs": [
    {
     "data": {
      "image/png": "[encoded data removed]",
      "text/plain": [
       "<Figure size 432x288 with 1 Axes>"
      ]
     },
     "metadata": {
      "needs_background": "light"
     },
     "output_type": "display_data"
    }
   ],
   "source": [
    "sns.countplot(x=df[\"pass\"], data=df)\n",
    "plt.show()"
   ]
  },
  {
   "cell_type": "code",
   "execution_count": 11,
   "metadata": {
    "pycharm": {
     "name": "#%%\n"
    }
   },
   "outputs": [
    {
     "data": {
      "text/html": [
       "<div>\n",
       "<style scoped>\n",
       "    .dataframe tbody tr th:only-of-type {\n",
       "        vertical-align: middle;\n",
       "    }\n",
       "\n",
       "    .dataframe tbody tr th {\n",
       "        vertical-align: top;\n",
       "    }\n",
       "\n",
       "    .dataframe thead th {\n",
       "        text-align: right;\n",
       "    }\n",
       "</style>\n",
       "<table border=\"1\" class=\"dataframe\">\n",
       "  <thead>\n",
       "    <tr style=\"text-align: right;\">\n",
       "      <th></th>\n",
       "      <th>gender</th>\n",
       "      <th>race/ethnicity</th>\n",
       "      <th>parental level of education</th>\n",
       "      <th>lunch</th>\n",
       "      <th>test preparation course</th>\n",
       "      <th>math score</th>\n",
       "      <th>reading score</th>\n",
       "      <th>writing score</th>\n",
       "      <th>pass</th>\n",
       "      <th>kfold</th>\n",
       "    </tr>\n",
       "  </thead>\n",
       "  <tbody>\n",
       "    <tr>\n",
       "      <th>0</th>\n",
       "      <td>male</td>\n",
       "      <td>group E</td>\n",
       "      <td>associate's degree</td>\n",
       "      <td>standard</td>\n",
       "      <td>none</td>\n",
       "      <td>87</td>\n",
       "      <td>74</td>\n",
       "      <td>76</td>\n",
       "      <td>1.0</td>\n",
       "      <td>0</td>\n",
       "    </tr>\n",
       "    <tr>\n",
       "      <th>1</th>\n",
       "      <td>female</td>\n",
       "      <td>group D</td>\n",
       "      <td>associate's degree</td>\n",
       "      <td>standard</td>\n",
       "      <td>none</td>\n",
       "      <td>65</td>\n",
       "      <td>69</td>\n",
       "      <td>70</td>\n",
       "      <td>1.0</td>\n",
       "      <td>0</td>\n",
       "    </tr>\n",
       "    <tr>\n",
       "      <th>2</th>\n",
       "      <td>female</td>\n",
       "      <td>group D</td>\n",
       "      <td>associate's degree</td>\n",
       "      <td>standard</td>\n",
       "      <td>none</td>\n",
       "      <td>74</td>\n",
       "      <td>81</td>\n",
       "      <td>83</td>\n",
       "      <td>1.0</td>\n",
       "      <td>0</td>\n",
       "    </tr>\n",
       "    <tr>\n",
       "      <th>3</th>\n",
       "      <td>female</td>\n",
       "      <td>group C</td>\n",
       "      <td>some college</td>\n",
       "      <td>standard</td>\n",
       "      <td>completed</td>\n",
       "      <td>88</td>\n",
       "      <td>95</td>\n",
       "      <td>94</td>\n",
       "      <td>1.0</td>\n",
       "      <td>0</td>\n",
       "    </tr>\n",
       "    <tr>\n",
       "      <th>4</th>\n",
       "      <td>female</td>\n",
       "      <td>group C</td>\n",
       "      <td>some college</td>\n",
       "      <td>standard</td>\n",
       "      <td>none</td>\n",
       "      <td>53</td>\n",
       "      <td>62</td>\n",
       "      <td>56</td>\n",
       "      <td>0.0</td>\n",
       "      <td>0</td>\n",
       "    </tr>\n",
       "  </tbody>\n",
       "</table>\n",
       "</div>"
      ],
      "text/plain": [
       "   gender race/ethnicity parental level of education     lunch  \\\n",
       "0    male        group E          associate's degree  standard   \n",
       "1  female        group D          associate's degree  standard   \n",
       "2  female        group D          associate's degree  standard   \n",
       "3  female        group C                some college  standard   \n",
       "4  female        group C                some college  standard   \n",
       "\n",
       "  test preparation course  math score  reading score  writing score  pass  \\\n",
       "0                    none          87             74             76   1.0   \n",
       "1                    none          65             69             70   1.0   \n",
       "2                    none          74             81             83   1.0   \n",
       "3               completed          88             95             94   1.0   \n",
       "4                    none          53             62             56   0.0   \n",
       "\n",
       "   kfold  \n",
       "0      0  \n",
       "1      0  \n",
       "2      0  \n",
       "3      0  \n",
       "4      0  "
      ]
     },
     "execution_count": 11,
     "metadata": {},
     "output_type": "execute_result"
    }
   ],
   "source": [
    "from sklearn import model_selection\n",
    "\n",
    "df[\"kfold\"] = -1\n",
    "\n",
    "df = df.sample(frac=1).reset_index(drop=True)\n",
    "y = df.loc[:, \"pass\"].values\n",
    "\n",
    "skf = model_selection.StratifiedKFold(n_splits=5)\n",
    "\n",
    "for fold, (trn_idx, val_idx) in enumerate(skf.split(X=df, y=y)):\n",
    "    df.loc[val_idx, \"kfold\"] = fold\n",
    "\n",
    "df.head()"
   ]
  },
  {
   "cell_type": "code",
   "execution_count": 12,
   "metadata": {
    "pycharm": {
     "name": "#%%\n"
    }
   },
   "outputs": [
    {
     "data": {
      "image/png": "[encoded data removed]",
      "text/plain": [
       "<Figure size 432x288 with 1 Axes>"
      ]
     },
     "metadata": {
      "needs_background": "light"
     },
     "output_type": "display_data"
    }
   ],
   "source": [
    "sns.countplot(x=df[\"kfold\"], data=df)\n",
    "plt.show()"
   ]
  },
  {
   "cell_type": "code",
   "execution_count": 13,
   "metadata": {
    "pycharm": {
     "name": "#%%\n"
    }
   },
   "outputs": [
    {
     "data": {
      "text/html": [
       "<div>\n",
       "<style scoped>\n",
       "    .dataframe tbody tr th:only-of-type {\n",
       "        vertical-align: middle;\n",
       "    }\n",
       "\n",
       "    .dataframe tbody tr th {\n",
       "        vertical-align: top;\n",
       "    }\n",
       "\n",
       "    .dataframe thead th {\n",
       "        text-align: right;\n",
       "    }\n",
       "</style>\n",
       "<table border=\"1\" class=\"dataframe\">\n",
       "  <thead>\n",
       "    <tr style=\"text-align: right;\">\n",
       "      <th></th>\n",
       "      <th>gender</th>\n",
       "      <th>race/ethnicity</th>\n",
       "      <th>parental level of education</th>\n",
       "      <th>lunch</th>\n",
       "      <th>test preparation course</th>\n",
       "      <th>math score</th>\n",
       "      <th>reading score</th>\n",
       "      <th>writing score</th>\n",
       "      <th>pass</th>\n",
       "      <th>kfold</th>\n",
       "    </tr>\n",
       "  </thead>\n",
       "  <tbody>\n",
       "    <tr>\n",
       "      <th>0</th>\n",
       "      <td>1</td>\n",
       "      <td>4</td>\n",
       "      <td>0</td>\n",
       "      <td>1</td>\n",
       "      <td>1</td>\n",
       "      <td>87</td>\n",
       "      <td>74</td>\n",
       "      <td>76</td>\n",
       "      <td>1.0</td>\n",
       "      <td>0</td>\n",
       "    </tr>\n",
       "    <tr>\n",
       "      <th>1</th>\n",
       "      <td>0</td>\n",
       "      <td>3</td>\n",
       "      <td>0</td>\n",
       "      <td>1</td>\n",
       "      <td>1</td>\n",
       "      <td>65</td>\n",
       "      <td>69</td>\n",
       "      <td>70</td>\n",
       "      <td>1.0</td>\n",
       "      <td>0</td>\n",
       "    </tr>\n",
       "    <tr>\n",
       "      <th>2</th>\n",
       "      <td>0</td>\n",
       "      <td>3</td>\n",
       "      <td>0</td>\n",
       "      <td>1</td>\n",
       "      <td>1</td>\n",
       "      <td>74</td>\n",
       "      <td>81</td>\n",
       "      <td>83</td>\n",
       "      <td>1.0</td>\n",
       "      <td>0</td>\n",
       "    </tr>\n",
       "    <tr>\n",
       "      <th>3</th>\n",
       "      <td>0</td>\n",
       "      <td>2</td>\n",
       "      <td>4</td>\n",
       "      <td>1</td>\n",
       "      <td>0</td>\n",
       "      <td>88</td>\n",
       "      <td>95</td>\n",
       "      <td>94</td>\n",
       "      <td>1.0</td>\n",
       "      <td>0</td>\n",
       "    </tr>\n",
       "    <tr>\n",
       "      <th>4</th>\n",
       "      <td>0</td>\n",
       "      <td>2</td>\n",
       "      <td>4</td>\n",
       "      <td>1</td>\n",
       "      <td>1</td>\n",
       "      <td>53</td>\n",
       "      <td>62</td>\n",
       "      <td>56</td>\n",
       "      <td>0.0</td>\n",
       "      <td>0</td>\n",
       "    </tr>\n",
       "  </tbody>\n",
       "</table>\n",
       "</div>"
      ],
      "text/plain": [
       "   gender  race/ethnicity  parental level of education  lunch  \\\n",
       "0       1               4                            0      1   \n",
       "1       0               3                            0      1   \n",
       "2       0               3                            0      1   \n",
       "3       0               2                            4      1   \n",
       "4       0               2                            4      1   \n",
       "\n",
       "   test preparation course  math score  reading score  writing score  pass  \\\n",
       "0                        1          87             74             76   1.0   \n",
       "1                        1          65             69             70   1.0   \n",
       "2                        1          74             81             83   1.0   \n",
       "3                        0          88             95             94   1.0   \n",
       "4                        1          53             62             56   0.0   \n",
       "\n",
       "   kfold  \n",
       "0      0  \n",
       "1      0  \n",
       "2      0  \n",
       "3      0  \n",
       "4      0  "
      ]
     },
     "execution_count": 13,
     "metadata": {},
     "output_type": "execute_result"
    }
   ],
   "source": [
    "from sklearn import preprocessing\n",
    "\n",
    "features = [x for x in df.columns if x not in [\"math score\", \"reading score\", \"writing score\", \"pass\", \"kfold\"]]\n",
    "\n",
    "for feat in features:\n",
    "    lbl_enc = preprocessing.LabelEncoder()\n",
    "    df.loc[:, feat] = lbl_enc.fit_transform(df.loc[:, feat].values)\n",
    "    \n",
    "df.head()"
   ]
  },
  {
   "cell_type": "code",
   "execution_count": 14,
   "metadata": {
    "pycharm": {
     "name": "#%%\n"
    }
   },
   "outputs": [],
   "source": [
    "from sklearn import linear_model \n",
    "from sklearn import metrics\n",
    "\n",
    "def run_lr(fold):\n",
    "    df_train = df[df.kfold != fold].reset_index(drop=True)\n",
    "    df_valid = df[df.kfold == fold].reset_index(drop=True)\n",
    "    \n",
    "    xtrain = df_train.drop(columns=[\"math score\", \"reading score\", \"writing score\", \"pass\"]).values\n",
    "    ytrain = df_train.loc[:, \"pass\"].values\n",
    "    \n",
    "    xvalid = df_valid.drop(columns=[\"math score\", \"reading score\", \"writing score\", \"pass\"]).values\n",
    "    yvalid = df_valid.loc[:, \"pass\"].values\n",
    "        \n",
    "    clf = linear_model.LogisticRegression()\n",
    "    clf.fit(xtrain, ytrain)\n",
    "    preds = clf.predict_proba(xvalid)[:, 1]\n",
    "    \n",
    "    auc = metrics.roc_auc_score(yvalid, preds)\n",
    "    print(f\"fold={fold}, auc={auc}\")\n",
    "    "
   ]
  },
  {
   "cell_type": "code",
   "execution_count": 15,
   "metadata": {
    "pycharm": {
     "name": "#%%\n"
    }
   },
   "outputs": [
    {
     "name": "stdout",
     "output_type": "stream",
     "text": [
      "fold=0, auc=0.7215274405050995\n",
      "fold=1, auc=0.7354905293831956\n",
      "fold=2, auc=0.7402933044837119\n",
      "fold=3, auc=0.6858997475658131\n",
      "fold=4, auc=0.7187762952277917\n"
     ]
    }
   ],
   "source": [
    "for j in range(5):\n",
    "    run_lr(j)"
   ]
  },
  {
   "cell_type": "code",
   "execution_count": 16,
   "metadata": {
    "pycharm": {
     "name": "#%%\n"
    }
   },
   "outputs": [
    {
     "name": "stderr",
     "output_type": "stream",
     "text": [
      "/Users/akifumiabe/.conda/envs/cat-in-the-dat-ii/lib/python3.8/site-packages/lightgbm/__init__.py:42: UserWarning: Starting from version 2.2.1, the library file in distribution wheels for macOS is built by the Apple Clang (Xcode_8.3.3) compiler.\n",
      "This means that in case of installing LightGBM from PyPI via the ``pip install lightgbm`` command, you don't need to install the gcc compiler anymore.\n",
      "Instead of that, you need to install the OpenMP library, which is required for running LightGBM on the system with the Apple Clang compiler.\n",
      "You can install the OpenMP library by the following command: ``brew install libomp``.\n",
      "  warnings.warn(\"Starting from version 2.2.1, the library file in distribution wheels for macOS \"\n"
     ]
    }
   ],
   "source": [
    "import lightgbm as lgb\n",
    "from sklearn import metrics\n",
    "\n",
    "def run_lgb(fold):\n",
    "    df_train = df[df.kfold != fold].reset_index(drop=True)\n",
    "    df_valid = df[df.kfold == fold].reset_index(drop=True)\n",
    "    \n",
    "    xtrain = df_train.drop(columns=[\"math score\", \"reading score\", \"writing score\", \"pass\"]).values\n",
    "    ytrain = df_train.loc[:, \"pass\"].values\n",
    "    \n",
    "    xvalid = df_valid.drop(columns=[\"math score\", \"reading score\", \"writing score\", \"pass\"]).values\n",
    "    yvalid = df_valid.loc[:, \"pass\"].values\n",
    "        \n",
    "    clf = lgb.LGBMClassifier()\n",
    "    clf.fit(xtrain, ytrain)\n",
    "    preds = clf.predict_proba(xvalid)[:, 1]\n",
    "    \n",
    "    auc = metrics.roc_auc_score(yvalid, preds)\n",
    "    print(f\"fold={fold}, auc={auc}\")"
   ]
  },
  {
   "cell_type": "code",
   "execution_count": 17,
   "metadata": {
    "pycharm": {
     "name": "#%%\n"
    },
    "scrolled": true
   },
   "outputs": [
    {
     "name": "stdout",
     "output_type": "stream",
     "text": [
      "fold=0, auc=0.6521976687712481\n",
      "fold=1, auc=0.6430913064594463\n",
      "fold=2, auc=0.6501382377689626\n",
      "fold=3, auc=0.6447890371438875\n",
      "fold=4, auc=0.68343550907561\n"
     ]
    }
   ],
   "source": [
    "for j in range(5):\n",
    "    run_lgb(j)"
   ]
  },
  {
   "cell_type": "code",
   "execution_count": 82,
   "metadata": {
    "pycharm": {
     "name": "#%%\n"
    }
   },
   "outputs": [],
   "source": [
    "import torch\n",
    "import torch.nn as nn\n",
    "import numpy as np"
   ]
  },
  {
   "cell_type": "code",
   "execution_count": 107,
   "metadata": {
    "pycharm": {
     "name": "#%%\n"
    }
   },
   "outputs": [],
   "source": [
    "class StudentPerformanceDataset:\n",
    "    def __init__(self, features, targets):\n",
    "        self.features = features\n",
    "        self.targets = targets\n",
    "    \n",
    "    def __len__(self):\n",
    "        return self.features.shape[0]\n",
    "    \n",
    "    def __getitem__(self, item):\n",
    "        return {\n",
    "            \"x\": torch.tensor(self.features[item, :], dtype=torch.float),\n",
    "            \"y\": torch.tensor(self.targets[item, :], dtype=torch.float)\n",
    "        }"
   ]
  },
  {
   "cell_type": "code",
   "execution_count": 119,
   "metadata": {},
   "outputs": [],
   "source": [
    "class Engine:\n",
    "    def __init__(self, model, optimizer, device):\n",
    "        self.model = model\n",
    "        self.device = device\n",
    "        self.optimizer = optimizer\n",
    "\n",
    "    @staticmethod\n",
    "    def loss_fn(targets, outputs):\n",
    "        return nn.BCEWithLogitsLoss()(outputs, targets)\n",
    "\n",
    "    def train(self, data_loader):\n",
    "        self.model.train()\n",
    "        final_loss = 0\n",
    "        for data in data_loader:\n",
    "            self.optimizer.zero_grad()\n",
    "            inputs = data[\"x\"].to(self.device)\n",
    "            targets = data[\"y\"].to(self.device)\n",
    "            outputs = self.model(inputs)\n",
    "            loss = self.loss_fn(targets, outputs)\n",
    "            loss.backward()\n",
    "            self.optimizer.step()\n",
    "            final_loss += loss.item()\n",
    "        return final_loss / len(data_loader)\n",
    "\n",
    "    def evaluate(self, data_loader):\n",
    "        self.model.eval()\n",
    "        final_loss = 0\n",
    "        for data in data_loader:\n",
    "            inputs = data[\"x\"].to(self.device)\n",
    "            targets = data[\"y\"].to(self.device)\n",
    "            outputs = self.model(inputs)\n",
    "            loss = self.loss_fn(targets, outputs)\n",
    "            final_loss += loss.item()\n",
    "        return final_loss / len(data_loader)"
   ]
  },
  {
   "cell_type": "code",
   "execution_count": 120,
   "metadata": {
    "pycharm": {
     "name": "#%%\n"
    }
   },
   "outputs": [],
   "source": [
    "class Model(nn.Module):\n",
    "    def __init__(self, num_features, hidden_size, num_targets):\n",
    "        super(Model, self).__init__()\n",
    "        self.fc1 = nn.Linear(num_features, hidden_size)\n",
    "        self.fc2 = nn.Linear(hidden_size, num_targets)\n",
    "        self.relu = nn.ReLU()\n",
    "    \n",
    "    def forward(self, x):\n",
    "        x = self.fc1(x)\n",
    "        x = self.relu(x)\n",
    "        x = self.fc2(x)\n",
    "        return x"
   ]
  },
  {
   "cell_type": "code",
   "execution_count": 121,
   "metadata": {},
   "outputs": [
    {
     "name": "stdout",
     "output_type": "stream",
     "text": [
      "fold=0, epoch=0, train loss=0.6963528096675873, valid loss=0.6031416952610016\n",
      "fold=0, epoch=1, train loss=0.6133490726351738, valid loss=0.6159220933914185\n",
      "fold=0, epoch=2, train loss=0.5962233245372772, valid loss=0.5876893401145935\n",
      "fold=0, epoch=3, train loss=0.5842939615249634, valid loss=0.5775793194770813\n",
      "fold=0, epoch=4, train loss=0.5739041119813919, valid loss=0.5734972357749939\n",
      "fold=0, epoch=5, train loss=0.564506720751524, valid loss=0.5672808885574341\n",
      "fold=0, epoch=6, train loss=0.5608421117067337, valid loss=0.562599241733551\n",
      "fold=0, epoch=7, train loss=0.558019258081913, valid loss=0.5564995110034943\n",
      "fold=0, epoch=8, train loss=0.5494637675583363, valid loss=0.5564270615577698\n",
      "fold=0, epoch=9, train loss=0.5465957447886467, valid loss=0.5478014945983887\n",
      "fold=0, epoch=10, train loss=0.543902687728405, valid loss=0.5469166040420532\n",
      "fold=0, epoch=11, train loss=0.5378593280911446, valid loss=0.5504197180271149\n",
      "fold=0, epoch=12, train loss=0.5382379293441772, valid loss=0.5500097572803497\n",
      "fold=0, epoch=13, train loss=0.5407146625220776, valid loss=0.5461755692958832\n",
      "fold=0, epoch=14, train loss=0.5395138114690781, valid loss=0.5483379662036896\n",
      "fold=0, epoch=15, train loss=0.5368721559643745, valid loss=0.5405851900577545\n",
      "fold=0, epoch=16, train loss=0.5361430048942566, valid loss=0.5498329699039459\n",
      "fold=0, epoch=17, train loss=0.5369870960712433, valid loss=0.5463136434555054\n",
      "fold=0, epoch=18, train loss=0.5320785231888294, valid loss=0.5501087009906769\n",
      "fold=0, epoch=19, train loss=0.5349195376038551, valid loss=0.5449776649475098\n",
      "fold=0, epoch=20, train loss=0.5340026654303074, valid loss=0.5373021066188812\n",
      "fold=0, epoch=21, train loss=0.5327641926705837, valid loss=0.5427675247192383\n",
      "fold=0, epoch=22, train loss=0.5341291055083275, valid loss=0.5445031225681305\n",
      "fold=0, epoch=23, train loss=0.5359017997980118, valid loss=0.53805211186409\n",
      "fold=0, epoch=24, train loss=0.5320386290550232, valid loss=0.5451341867446899\n",
      "fold=0, epoch=25, train loss=0.5306937545537949, valid loss=0.5429502725601196\n",
      "fold=0, epoch=26, train loss=0.5317735522985458, valid loss=0.5453090965747833\n",
      "fold=0, epoch=27, train loss=0.5316223725676537, valid loss=0.5427418947219849\n",
      "fold=0, epoch=28, train loss=0.5332699157297611, valid loss=0.5421275198459625\n",
      "fold=0, epoch=29, train loss=0.5350270122289658, valid loss=0.5437802076339722\n",
      "fold=0, epoch=30, train loss=0.5297937579452991, valid loss=0.5434350371360779\n",
      "fold=0, epoch=31, train loss=0.5323165953159332, valid loss=0.5449583828449249\n",
      "fold=0, epoch=32, train loss=0.5343309342861176, valid loss=0.5401333272457123\n",
      "fold=0, epoch=33, train loss=0.5354568585753441, valid loss=0.537900984287262\n",
      "fold=0, epoch=34, train loss=0.5386123135685921, valid loss=0.5482796430587769\n",
      "fold=0, epoch=35, train loss=0.5306365452706814, valid loss=0.5374202132225037\n",
      "fold=0, epoch=36, train loss=0.53078718110919, valid loss=0.5472165942192078\n",
      "fold=0, epoch=37, train loss=0.5318261571228504, valid loss=0.5447010695934296\n",
      "fold=0, epoch=38, train loss=0.528957188129425, valid loss=0.5447087585926056\n",
      "fold=0, epoch=39, train loss=0.5282690934836864, valid loss=0.5449190735816956\n",
      "fold=0, epoch=40, train loss=0.5337613113224506, valid loss=0.5424804389476776\n",
      "fold=0, epoch=41, train loss=0.5313438959419727, valid loss=0.5412183403968811\n",
      "fold=0, epoch=42, train loss=0.5310296230018139, valid loss=0.5480369925498962\n",
      "fold=0, epoch=43, train loss=0.5329654924571514, valid loss=0.541301041841507\n",
      "fold=0, epoch=44, train loss=0.534370481967926, valid loss=0.5399650931358337\n",
      "fold=0, epoch=45, train loss=0.5301805771887302, valid loss=0.5467658340930939\n",
      "fold=0, epoch=46, train loss=0.5321653671562672, valid loss=0.5466552078723907\n",
      "fold=0, epoch=47, train loss=0.5308385901153088, valid loss=0.5416571497917175\n",
      "fold=0, epoch=48, train loss=0.5290356539189816, valid loss=0.5474420189857483\n",
      "fold=0, epoch=49, train loss=0.5331381186842918, valid loss=0.5423434376716614\n",
      "fold=0, epoch=50, train loss=0.5365667045116425, valid loss=0.5431884825229645\n",
      "fold=0, epoch=51, train loss=0.5348110683262348, valid loss=0.5439095795154572\n",
      "fold=0, epoch=52, train loss=0.5279541090130806, valid loss=0.55027174949646\n",
      "fold=0, epoch=53, train loss=0.5300092361867428, valid loss=0.5445483922958374\n",
      "fold=0, epoch=54, train loss=0.5305228047072887, valid loss=0.5476897954940796\n",
      "fold=0, epoch=55, train loss=0.529913667589426, valid loss=0.5458591878414154\n",
      "fold=0, epoch=56, train loss=0.5304516293108463, valid loss=0.544807642698288\n",
      "fold=0, epoch=57, train loss=0.5294685177505016, valid loss=0.5497775971889496\n",
      "fold=0, epoch=58, train loss=0.530332513153553, valid loss=0.5478751957416534\n",
      "fold=0, epoch=59, train loss=0.532532062381506, valid loss=0.5513733625411987\n",
      "fold=0, epoch=60, train loss=0.5273518785834312, valid loss=0.5508883595466614\n",
      "fold=0, epoch=61, train loss=0.5274822898209095, valid loss=0.5475368201732635\n",
      "fold=0, epoch=62, train loss=0.5253714211285114, valid loss=0.5535677373409271\n",
      "fold=0, epoch=63, train loss=0.5272788405418396, valid loss=0.5523886978626251\n",
      "fold=0, epoch=64, train loss=0.5350767560303211, valid loss=0.5570909678936005\n",
      "fold=0, epoch=65, train loss=0.5248453691601753, valid loss=0.5455113649368286\n",
      "fold=0, epoch=66, train loss=0.5286867544054985, valid loss=0.5568461716175079\n",
      "fold=0, epoch=67, train loss=0.5289853140711784, valid loss=0.5538324415683746\n",
      "fold=0, epoch=68, train loss=0.5283746048808098, valid loss=0.5528191924095154\n",
      "fold=0, epoch=69, train loss=0.5311986356973648, valid loss=0.5502166450023651\n",
      "fold=0, epoch=70, train loss=0.5276932865381241, valid loss=0.5507330298423767\n",
      "fold=0, epoch=71, train loss=0.5316555127501488, valid loss=0.558801144361496\n",
      "fold=0, epoch=72, train loss=0.5269727632403374, valid loss=0.5513396859169006\n",
      "fold=0, epoch=73, train loss=0.5275474078953266, valid loss=0.5642435848712921\n",
      "fold=0, epoch=74, train loss=0.5277954749763012, valid loss=0.5549055635929108\n",
      "fold=0, epoch=75, train loss=0.5259016454219818, valid loss=0.5580791532993317\n",
      "fold=0, epoch=76, train loss=0.5272489339113235, valid loss=0.5600758790969849\n",
      "fold=0, epoch=77, train loss=0.5302331894636154, valid loss=0.5560808777809143\n",
      "fold=0, epoch=78, train loss=0.5305942520499229, valid loss=0.5687776505947113\n",
      "fold=0, epoch=79, train loss=0.5256005004048347, valid loss=0.5551967024803162\n",
      "fold=0, epoch=80, train loss=0.527594231069088, valid loss=0.570807009935379\n",
      "fold=0, epoch=81, train loss=0.5264464467763901, valid loss=0.5629037022590637\n",
      "fold=0, epoch=82, train loss=0.5260579101741314, valid loss=0.5633147060871124\n",
      "fold=0, epoch=83, train loss=0.5255339592695236, valid loss=0.5649034678936005\n",
      "fold=0, epoch=84, train loss=0.5270287916064262, valid loss=0.5715807974338531\n",
      "fold=0, epoch=85, train loss=0.5278245434165001, valid loss=0.5624182224273682\n",
      "fold=0, epoch=86, train loss=0.5292480513453484, valid loss=0.5587878525257111\n",
      "fold=0, epoch=87, train loss=0.5232099033892155, valid loss=0.5756692886352539\n",
      "fold=0, epoch=88, train loss=0.5256703235208988, valid loss=0.5676422715187073\n",
      "fold=0, epoch=89, train loss=0.5250906571745872, valid loss=0.5671549439430237\n",
      "fold=0, epoch=90, train loss=0.5233210101723671, valid loss=0.5663285553455353\n",
      "fold=0, epoch=91, train loss=0.5280293226242065, valid loss=0.5755224227905273\n",
      "fold=0, epoch=92, train loss=0.5245257876813412, valid loss=0.5634049773216248\n",
      "fold=0, epoch=93, train loss=0.5262698419392109, valid loss=0.5867592692375183\n",
      "fold=0, epoch=94, train loss=0.5201120376586914, valid loss=0.5650710761547089\n",
      "fold=0, epoch=95, train loss=0.5213808864355087, valid loss=0.5726039409637451\n",
      "fold=0, epoch=96, train loss=0.5209484547376633, valid loss=0.5688267052173615\n",
      "fold=0, epoch=97, train loss=0.5200195051729679, valid loss=0.5786980390548706\n",
      "fold=0, epoch=98, train loss=0.5238605812191963, valid loss=0.5745918452739716\n",
      "fold=0, epoch=99, train loss=0.5242339596152306, valid loss=0.583946019411087\n",
      "fold=1, epoch=0, train loss=0.7494360953569412, valid loss=0.6464322209358215\n",
      "fold=1, epoch=1, train loss=0.6218001171946526, valid loss=0.6124821603298187\n",
      "fold=1, epoch=2, train loss=0.6160885766148567, valid loss=0.6073217391967773\n",
      "fold=1, epoch=3, train loss=0.6078754141926765, valid loss=0.5983047187328339\n",
      "fold=1, epoch=4, train loss=0.594449944794178, valid loss=0.5923002064228058\n",
      "fold=1, epoch=5, train loss=0.5858257785439491, valid loss=0.5823234021663666\n",
      "fold=1, epoch=6, train loss=0.5715911835432053, valid loss=0.5776364505290985\n",
      "fold=1, epoch=7, train loss=0.5639453120529652, valid loss=0.5669933557510376\n"
     ]
    },
    {
     "name": "stdout",
     "output_type": "stream",
     "text": [
      "fold=1, epoch=8, train loss=0.5525788553059101, valid loss=0.5653165876865387\n",
      "fold=1, epoch=9, train loss=0.5555044859647751, valid loss=0.555313378572464\n",
      "fold=1, epoch=10, train loss=0.5442712232470512, valid loss=0.5527282059192657\n",
      "fold=1, epoch=11, train loss=0.54244439676404, valid loss=0.548837423324585\n",
      "fold=1, epoch=12, train loss=0.539882231503725, valid loss=0.5480454862117767\n",
      "fold=1, epoch=13, train loss=0.5386267527937889, valid loss=0.5496557652950287\n",
      "fold=1, epoch=14, train loss=0.5410048440098763, valid loss=0.5466625392436981\n",
      "fold=1, epoch=15, train loss=0.5382533594965935, valid loss=0.5467591881752014\n",
      "fold=1, epoch=16, train loss=0.5350784473121166, valid loss=0.544095367193222\n",
      "fold=1, epoch=17, train loss=0.5332488417625427, valid loss=0.5480715036392212\n",
      "fold=1, epoch=18, train loss=0.5366618782281876, valid loss=0.544882744550705\n",
      "fold=1, epoch=19, train loss=0.5348513200879097, valid loss=0.5453193187713623\n",
      "fold=1, epoch=20, train loss=0.5372471883893013, valid loss=0.543510377407074\n",
      "fold=1, epoch=21, train loss=0.535378023982048, valid loss=0.547552227973938\n",
      "fold=1, epoch=22, train loss=0.5344667881727219, valid loss=0.5437225699424744\n",
      "fold=1, epoch=23, train loss=0.5336728245019913, valid loss=0.5475862324237823\n",
      "fold=1, epoch=24, train loss=0.538853470236063, valid loss=0.5457215905189514\n",
      "fold=1, epoch=25, train loss=0.5344423353672028, valid loss=0.5432399213314056\n",
      "fold=1, epoch=26, train loss=0.5346817225217819, valid loss=0.5504685938358307\n",
      "fold=1, epoch=27, train loss=0.5329684279859066, valid loss=0.5425096750259399\n",
      "fold=1, epoch=28, train loss=0.5321085713803768, valid loss=0.546572208404541\n",
      "fold=1, epoch=29, train loss=0.530949417501688, valid loss=0.5435322523117065\n",
      "fold=1, epoch=30, train loss=0.5301180444657803, valid loss=0.5454997718334198\n",
      "fold=1, epoch=31, train loss=0.5297746434807777, valid loss=0.5450749397277832\n",
      "fold=1, epoch=32, train loss=0.5329654403030872, valid loss=0.5433907508850098\n",
      "fold=1, epoch=33, train loss=0.529439952224493, valid loss=0.5461675226688385\n",
      "fold=1, epoch=34, train loss=0.5283070951700211, valid loss=0.5429565012454987\n",
      "fold=1, epoch=35, train loss=0.5283529758453369, valid loss=0.5443940460681915\n",
      "fold=1, epoch=36, train loss=0.5330023616552353, valid loss=0.5443543791770935\n",
      "fold=1, epoch=37, train loss=0.5261778756976128, valid loss=0.543513685464859\n",
      "fold=1, epoch=38, train loss=0.5294674821197987, valid loss=0.545673131942749\n",
      "fold=1, epoch=39, train loss=0.5311827473342419, valid loss=0.5444931983947754\n",
      "fold=1, epoch=40, train loss=0.5355910770595074, valid loss=0.543296605348587\n",
      "fold=1, epoch=41, train loss=0.5278898291289806, valid loss=0.5452757179737091\n",
      "fold=1, epoch=42, train loss=0.5281641893088818, valid loss=0.5429639518260956\n",
      "fold=1, epoch=43, train loss=0.5294875390827656, valid loss=0.5458997786045074\n",
      "fold=1, epoch=44, train loss=0.5295838937163353, valid loss=0.5440296828746796\n",
      "fold=1, epoch=45, train loss=0.5333220884203911, valid loss=0.5435012578964233\n",
      "fold=1, epoch=46, train loss=0.5281721688807011, valid loss=0.5443311333656311\n",
      "fold=1, epoch=47, train loss=0.5288032330572605, valid loss=0.5444332659244537\n",
      "fold=1, epoch=48, train loss=0.5270290672779083, valid loss=0.5429625809192657\n",
      "fold=1, epoch=49, train loss=0.528413686901331, valid loss=0.543268084526062\n",
      "fold=1, epoch=50, train loss=0.5298023000359535, valid loss=0.5454423129558563\n",
      "fold=1, epoch=51, train loss=0.5328269824385643, valid loss=0.5448270738124847\n",
      "fold=1, epoch=52, train loss=0.5274853147566319, valid loss=0.5431285500526428\n",
      "fold=1, epoch=53, train loss=0.5263982750475407, valid loss=0.5441091358661652\n",
      "fold=1, epoch=54, train loss=0.5284563712775707, valid loss=0.5454919040203094\n",
      "fold=1, epoch=55, train loss=0.5279189832508564, valid loss=0.5444441735744476\n",
      "fold=1, epoch=56, train loss=0.5290138758718967, valid loss=0.5447473227977753\n",
      "fold=1, epoch=57, train loss=0.525985836982727, valid loss=0.5461369156837463\n",
      "fold=1, epoch=58, train loss=0.5274732708930969, valid loss=0.5429455935955048\n",
      "fold=1, epoch=59, train loss=0.5259312652051449, valid loss=0.5469988584518433\n",
      "fold=1, epoch=60, train loss=0.5266167633235455, valid loss=0.5434077084064484\n",
      "fold=1, epoch=61, train loss=0.5248790569603443, valid loss=0.5442010164260864\n",
      "fold=1, epoch=62, train loss=0.5338448397815228, valid loss=0.5427269637584686\n",
      "fold=1, epoch=63, train loss=0.5277762562036514, valid loss=0.550396740436554\n",
      "fold=1, epoch=64, train loss=0.5253642611205578, valid loss=0.5434269607067108\n",
      "fold=1, epoch=65, train loss=0.5264391489326954, valid loss=0.5441851019859314\n",
      "fold=1, epoch=66, train loss=0.5300147905945778, valid loss=0.5455083250999451\n",
      "fold=1, epoch=67, train loss=0.5305500961840153, valid loss=0.5426746904850006\n",
      "fold=1, epoch=68, train loss=0.5267915427684784, valid loss=0.5491284728050232\n",
      "fold=1, epoch=69, train loss=0.5235571376979351, valid loss=0.544171005487442\n",
      "fold=1, epoch=70, train loss=0.5280058272182941, valid loss=0.5442395806312561\n",
      "fold=1, epoch=71, train loss=0.5289601013064384, valid loss=0.5458047091960907\n",
      "fold=1, epoch=72, train loss=0.5249936059117317, valid loss=0.541080117225647\n",
      "fold=1, epoch=73, train loss=0.5260658450424671, valid loss=0.5428698360919952\n",
      "fold=1, epoch=74, train loss=0.5247961208224297, valid loss=0.5466813147068024\n",
      "fold=1, epoch=75, train loss=0.5286561213433743, valid loss=0.542975902557373\n",
      "fold=1, epoch=76, train loss=0.5254629738628864, valid loss=0.5477960407733917\n",
      "fold=1, epoch=77, train loss=0.5255491957068443, valid loss=0.5431538820266724\n",
      "fold=1, epoch=78, train loss=0.5246834792196751, valid loss=0.542453795671463\n",
      "fold=1, epoch=79, train loss=0.5287743397057056, valid loss=0.5427433550357819\n",
      "fold=1, epoch=80, train loss=0.5247330404818058, valid loss=0.5459626913070679\n",
      "fold=1, epoch=81, train loss=0.525233905762434, valid loss=0.5452522933483124\n",
      "fold=1, epoch=82, train loss=0.5235775038599968, valid loss=0.5462703704833984\n",
      "fold=1, epoch=83, train loss=0.5236739329993725, valid loss=0.5446338355541229\n",
      "fold=1, epoch=84, train loss=0.5234573818743229, valid loss=0.5464796423912048\n",
      "fold=1, epoch=85, train loss=0.5210132151842117, valid loss=0.545137494802475\n",
      "fold=1, epoch=86, train loss=0.5265595801174641, valid loss=0.5452613234519958\n",
      "fold=1, epoch=87, train loss=0.5254846252501011, valid loss=0.5451289415359497\n",
      "fold=1, epoch=88, train loss=0.5243447124958038, valid loss=0.5441069304943085\n",
      "fold=1, epoch=89, train loss=0.5247870199382305, valid loss=0.5438388586044312\n",
      "fold=1, epoch=90, train loss=0.5245823673903942, valid loss=0.5448870658874512\n",
      "fold=1, epoch=91, train loss=0.5257215946912766, valid loss=0.5450416505336761\n",
      "fold=1, epoch=92, train loss=0.5238109342753887, valid loss=0.5447285771369934\n",
      "fold=1, epoch=93, train loss=0.5242820084095001, valid loss=0.5472544133663177\n",
      "fold=1, epoch=94, train loss=0.5231261625885963, valid loss=0.5468904674053192\n",
      "fold=1, epoch=95, train loss=0.5215332470834255, valid loss=0.5438219010829926\n",
      "fold=1, epoch=96, train loss=0.5232610702514648, valid loss=0.545905739068985\n",
      "fold=1, epoch=97, train loss=0.5215834639966488, valid loss=0.5469496548175812\n",
      "fold=1, epoch=98, train loss=0.5205185562372208, valid loss=0.5455505847930908\n",
      "fold=1, epoch=99, train loss=0.5250547416508198, valid loss=0.5454120635986328\n",
      "fold=2, epoch=0, train loss=0.7376073151826859, valid loss=0.6448337435722351\n",
      "fold=2, epoch=1, train loss=0.6214287802577019, valid loss=0.6134274005889893\n",
      "fold=2, epoch=2, train loss=0.6073094680905342, valid loss=0.6053096354007721\n",
      "fold=2, epoch=3, train loss=0.5994835048913956, valid loss=0.5982393324375153\n",
      "fold=2, epoch=4, train loss=0.5933427959680557, valid loss=0.5916954874992371\n",
      "fold=2, epoch=5, train loss=0.5872206538915634, valid loss=0.5818738639354706\n",
      "fold=2, epoch=6, train loss=0.5800303667783737, valid loss=0.5735854804515839\n",
      "fold=2, epoch=7, train loss=0.5798659846186638, valid loss=0.5587581694126129\n",
      "fold=2, epoch=8, train loss=0.5704435333609581, valid loss=0.5477132797241211\n",
      "fold=2, epoch=9, train loss=0.5642324760556221, valid loss=0.538450762629509\n",
      "fold=2, epoch=10, train loss=0.5545279160141945, valid loss=0.5318221747875214\n",
      "fold=2, epoch=11, train loss=0.5504325404763222, valid loss=0.5285678505897522\n",
      "fold=2, epoch=12, train loss=0.5423349142074585, valid loss=0.5274889320135117\n",
      "fold=2, epoch=13, train loss=0.5418115518987179, valid loss=0.5293682217597961\n",
      "fold=2, epoch=14, train loss=0.5409829914569855, valid loss=0.5291049480438232\n",
      "fold=2, epoch=15, train loss=0.5454978570342064, valid loss=0.5303212702274323\n"
     ]
    },
    {
     "name": "stdout",
     "output_type": "stream",
     "text": [
      "fold=2, epoch=16, train loss=0.5428197979927063, valid loss=0.5310024321079254\n",
      "fold=2, epoch=17, train loss=0.5386992990970612, valid loss=0.536928653717041\n",
      "fold=2, epoch=18, train loss=0.5365837626159191, valid loss=0.5315923392772675\n",
      "fold=2, epoch=19, train loss=0.5365857258439064, valid loss=0.5311084389686584\n",
      "fold=2, epoch=20, train loss=0.546605221927166, valid loss=0.5336243212223053\n",
      "fold=2, epoch=21, train loss=0.5413498133420944, valid loss=0.5339743793010712\n",
      "fold=2, epoch=22, train loss=0.5395389869809151, valid loss=0.5352163016796112\n",
      "fold=2, epoch=23, train loss=0.5366063043475151, valid loss=0.530007392168045\n",
      "fold=2, epoch=24, train loss=0.5330575816333294, valid loss=0.531383141875267\n",
      "fold=2, epoch=25, train loss=0.53483996540308, valid loss=0.5347864329814911\n",
      "fold=2, epoch=26, train loss=0.5336850732564926, valid loss=0.5340263247489929\n",
      "fold=2, epoch=27, train loss=0.5364414304494858, valid loss=0.5357339978218079\n",
      "fold=2, epoch=28, train loss=0.5375037603080273, valid loss=0.5357919931411743\n",
      "fold=2, epoch=29, train loss=0.5340946651995182, valid loss=0.5376743376255035\n",
      "fold=2, epoch=30, train loss=0.5358687862753868, valid loss=0.5354086458683014\n",
      "fold=2, epoch=31, train loss=0.5371294766664505, valid loss=0.535451352596283\n",
      "fold=2, epoch=32, train loss=0.5329977571964264, valid loss=0.5411038994789124\n",
      "fold=2, epoch=33, train loss=0.5324476547539234, valid loss=0.5350456833839417\n",
      "fold=2, epoch=34, train loss=0.5317077450454235, valid loss=0.5370090901851654\n",
      "fold=2, epoch=35, train loss=0.5328651368618011, valid loss=0.5381868183612823\n",
      "fold=2, epoch=36, train loss=0.5354654490947723, valid loss=0.5372931957244873\n",
      "fold=2, epoch=37, train loss=0.5323751457035542, valid loss=0.5376883149147034\n",
      "fold=2, epoch=38, train loss=0.5319448299705982, valid loss=0.5385480523109436\n",
      "fold=2, epoch=39, train loss=0.5316955409944057, valid loss=0.5388827323913574\n",
      "fold=2, epoch=40, train loss=0.5328040942549706, valid loss=0.5396720767021179\n",
      "fold=2, epoch=41, train loss=0.5302714183926582, valid loss=0.5373128950595856\n",
      "fold=2, epoch=42, train loss=0.5300995521247387, valid loss=0.5379465520381927\n",
      "fold=2, epoch=43, train loss=0.5322015583515167, valid loss=0.5425095856189728\n",
      "fold=2, epoch=44, train loss=0.5374527312815189, valid loss=0.5398865938186646\n",
      "fold=2, epoch=45, train loss=0.5305509269237518, valid loss=0.5404250919818878\n",
      "fold=2, epoch=46, train loss=0.531200360506773, valid loss=0.5402396023273468\n",
      "fold=2, epoch=47, train loss=0.531506534665823, valid loss=0.5387248992919922\n",
      "fold=2, epoch=48, train loss=0.532982662320137, valid loss=0.5405165553092957\n",
      "fold=2, epoch=49, train loss=0.5320899449288845, valid loss=0.5410834848880768\n",
      "fold=2, epoch=50, train loss=0.5318860970437527, valid loss=0.5417452156543732\n",
      "fold=2, epoch=51, train loss=0.5288547910749912, valid loss=0.5412626564502716\n",
      "fold=2, epoch=52, train loss=0.5302116945385933, valid loss=0.5429042279720306\n",
      "fold=2, epoch=53, train loss=0.5369542725384235, valid loss=0.5402344763278961\n",
      "fold=2, epoch=54, train loss=0.5296035520732403, valid loss=0.542858362197876\n",
      "fold=2, epoch=55, train loss=0.5303712263703346, valid loss=0.5422472059726715\n",
      "fold=2, epoch=56, train loss=0.528590202331543, valid loss=0.5404672920703888\n",
      "fold=2, epoch=57, train loss=0.5294755697250366, valid loss=0.5433732569217682\n",
      "fold=2, epoch=58, train loss=0.528571605682373, valid loss=0.5447296798229218\n",
      "fold=2, epoch=59, train loss=0.5338451191782951, valid loss=0.5441140234470367\n",
      "fold=2, epoch=60, train loss=0.5282380469143391, valid loss=0.5462307929992676\n",
      "fold=2, epoch=61, train loss=0.5280848480761051, valid loss=0.542635977268219\n",
      "fold=2, epoch=62, train loss=0.5300684161484241, valid loss=0.5435189604759216\n",
      "fold=2, epoch=63, train loss=0.5283733010292053, valid loss=0.5459586083889008\n",
      "fold=2, epoch=64, train loss=0.5270478129386902, valid loss=0.5441520810127258\n",
      "fold=2, epoch=65, train loss=0.5280645675957203, valid loss=0.543710321187973\n",
      "fold=2, epoch=66, train loss=0.5292398780584335, valid loss=0.5456226170063019\n",
      "fold=2, epoch=67, train loss=0.5280742011964321, valid loss=0.5453672707080841\n",
      "fold=2, epoch=68, train loss=0.5265777558088303, valid loss=0.5486322939395905\n",
      "fold=2, epoch=69, train loss=0.5270853415131569, valid loss=0.5495615303516388\n",
      "fold=2, epoch=70, train loss=0.5226303413510323, valid loss=0.5481902956962585\n",
      "fold=2, epoch=71, train loss=0.5258861742913723, valid loss=0.545582115650177\n",
      "fold=2, epoch=72, train loss=0.5254091694951057, valid loss=0.5493236482143402\n",
      "fold=2, epoch=73, train loss=0.5265049822628498, valid loss=0.5542683601379395\n",
      "fold=2, epoch=74, train loss=0.5244244895875454, valid loss=0.5480311810970306\n",
      "fold=2, epoch=75, train loss=0.5272880308330059, valid loss=0.5489296913146973\n",
      "fold=2, epoch=76, train loss=0.5307923629879951, valid loss=0.5531645119190216\n",
      "fold=2, epoch=77, train loss=0.5262653306126595, valid loss=0.5495651662349701\n",
      "fold=2, epoch=78, train loss=0.5252156257629395, valid loss=0.5519589483737946\n",
      "fold=2, epoch=79, train loss=0.5218130350112915, valid loss=0.5552336275577545\n",
      "fold=2, epoch=80, train loss=0.5258199386298656, valid loss=0.5540017485618591\n",
      "fold=2, epoch=81, train loss=0.5243691056966782, valid loss=0.550789088010788\n",
      "fold=2, epoch=82, train loss=0.526596624404192, valid loss=0.5551820695400238\n",
      "fold=2, epoch=83, train loss=0.5236300006508827, valid loss=0.5615877509117126\n",
      "fold=2, epoch=84, train loss=0.5277342014014721, valid loss=0.5532703399658203\n",
      "fold=2, epoch=85, train loss=0.5243140496313572, valid loss=0.5539259910583496\n",
      "fold=2, epoch=86, train loss=0.5221287794411182, valid loss=0.5582425892353058\n",
      "fold=2, epoch=87, train loss=0.5242562592029572, valid loss=0.5613754689693451\n",
      "fold=2, epoch=88, train loss=0.526244230568409, valid loss=0.5610313713550568\n",
      "fold=2, epoch=89, train loss=0.526375126093626, valid loss=0.5563273131847382\n",
      "fold=2, epoch=90, train loss=0.5206332504749298, valid loss=0.5519579946994781\n",
      "fold=2, epoch=91, train loss=0.5294935293495655, valid loss=0.5586206614971161\n",
      "fold=2, epoch=92, train loss=0.5202058888971806, valid loss=0.5619884729385376\n",
      "fold=2, epoch=93, train loss=0.5272531844675541, valid loss=0.5668763220310211\n",
      "fold=2, epoch=94, train loss=0.5241099409759045, valid loss=0.5577287375926971\n",
      "fold=2, epoch=95, train loss=0.5221789628267288, valid loss=0.5542402267456055\n",
      "fold=2, epoch=96, train loss=0.5231159888207912, valid loss=0.5628484785556793\n",
      "fold=2, epoch=97, train loss=0.518557321280241, valid loss=0.5612819492816925\n",
      "fold=2, epoch=98, train loss=0.5198096893727779, valid loss=0.5657437443733215\n",
      "fold=2, epoch=99, train loss=0.5189509466290474, valid loss=0.5614610314369202\n",
      "fold=3, epoch=0, train loss=0.6063302457332611, valid loss=0.5886210203170776\n",
      "fold=3, epoch=1, train loss=0.5843064486980438, valid loss=0.5801300406455994\n",
      "fold=3, epoch=2, train loss=0.5722955837845802, valid loss=0.5752420723438263\n",
      "fold=3, epoch=3, train loss=0.5614925920963287, valid loss=0.5665136873722076\n",
      "fold=3, epoch=4, train loss=0.5506871566176414, valid loss=0.5576866567134857\n",
      "fold=3, epoch=5, train loss=0.5436337180435658, valid loss=0.5546967685222626\n",
      "fold=3, epoch=6, train loss=0.5357008948922157, valid loss=0.5541288554668427\n",
      "fold=3, epoch=7, train loss=0.5351784825325012, valid loss=0.5556825697422028\n",
      "fold=3, epoch=8, train loss=0.5345337390899658, valid loss=0.55806964635849\n",
      "fold=3, epoch=9, train loss=0.5306229926645756, valid loss=0.5582291781902313\n",
      "fold=3, epoch=10, train loss=0.532157763838768, valid loss=0.558265894651413\n",
      "fold=3, epoch=11, train loss=0.5306977443397045, valid loss=0.5594485700130463\n",
      "fold=3, epoch=12, train loss=0.5322981849312782, valid loss=0.5614855885505676\n",
      "fold=3, epoch=13, train loss=0.5275775417685509, valid loss=0.5632491409778595\n",
      "fold=3, epoch=14, train loss=0.528073213994503, valid loss=0.5628193914890289\n",
      "fold=3, epoch=15, train loss=0.5276004374027252, valid loss=0.561543345451355\n",
      "fold=3, epoch=16, train loss=0.5314363390207291, valid loss=0.5605255365371704\n",
      "fold=3, epoch=17, train loss=0.5273603424429893, valid loss=0.561842679977417\n",
      "fold=3, epoch=18, train loss=0.5311520509421825, valid loss=0.5622813403606415\n",
      "fold=3, epoch=19, train loss=0.5313151814043522, valid loss=0.5609244704246521\n",
      "fold=3, epoch=20, train loss=0.5253856517374516, valid loss=0.562472939491272\n",
      "fold=3, epoch=21, train loss=0.5280382744967937, valid loss=0.5617586374282837\n",
      "fold=3, epoch=22, train loss=0.5323686376214027, valid loss=0.5637125670909882\n",
      "fold=3, epoch=23, train loss=0.5326301865279675, valid loss=0.5608168244361877\n",
      "fold=3, epoch=24, train loss=0.5296683013439178, valid loss=0.5653994679450989\n",
      "fold=3, epoch=25, train loss=0.5269878283143044, valid loss=0.5623597204685211\n",
      "fold=3, epoch=26, train loss=0.5281891040503979, valid loss=0.5631808042526245\n",
      "fold=3, epoch=27, train loss=0.5259554758667946, valid loss=0.5633110404014587\n",
      "fold=3, epoch=28, train loss=0.5250817537307739, valid loss=0.564421147108078\n"
     ]
    },
    {
     "name": "stdout",
     "output_type": "stream",
     "text": [
      "fold=3, epoch=29, train loss=0.5251896940171719, valid loss=0.5613733232021332\n",
      "fold=3, epoch=30, train loss=0.5259213261306286, valid loss=0.561432421207428\n",
      "fold=3, epoch=31, train loss=0.5237139239907265, valid loss=0.5648559331893921\n",
      "fold=3, epoch=32, train loss=0.5266417823731899, valid loss=0.565101832151413\n",
      "fold=3, epoch=33, train loss=0.5203276537358761, valid loss=0.5634576082229614\n",
      "fold=3, epoch=34, train loss=0.5193815678358078, valid loss=0.5624566674232483\n",
      "fold=3, epoch=35, train loss=0.5231313370168209, valid loss=0.562313586473465\n",
      "fold=3, epoch=36, train loss=0.5211241282522678, valid loss=0.5624243915081024\n",
      "fold=3, epoch=37, train loss=0.5243398994207382, valid loss=0.563594788312912\n",
      "fold=3, epoch=38, train loss=0.5219047889113426, valid loss=0.5630398690700531\n",
      "fold=3, epoch=39, train loss=0.520586971193552, valid loss=0.5630695819854736\n",
      "fold=3, epoch=40, train loss=0.5219024755060673, valid loss=0.5635327696800232\n",
      "fold=3, epoch=41, train loss=0.5237172916531563, valid loss=0.5631750524044037\n",
      "fold=3, epoch=42, train loss=0.5221083164215088, valid loss=0.5642536878585815\n",
      "fold=3, epoch=43, train loss=0.5217659324407578, valid loss=0.5654689371585846\n",
      "fold=3, epoch=44, train loss=0.5182876065373421, valid loss=0.5659854114055634\n",
      "fold=3, epoch=45, train loss=0.5287073887884617, valid loss=0.5631385445594788\n",
      "fold=3, epoch=46, train loss=0.5197704546153545, valid loss=0.5691331028938293\n",
      "fold=3, epoch=47, train loss=0.5221809521317482, valid loss=0.5650968551635742\n",
      "fold=3, epoch=48, train loss=0.5236790031194687, valid loss=0.5675012767314911\n",
      "fold=3, epoch=49, train loss=0.5181074067950249, valid loss=0.5642715096473694\n",
      "fold=3, epoch=50, train loss=0.5236118324100971, valid loss=0.5631203055381775\n",
      "fold=3, epoch=51, train loss=0.5231205932796001, valid loss=0.5703037977218628\n",
      "fold=3, epoch=52, train loss=0.5171089172363281, valid loss=0.5645492672920227\n",
      "fold=3, epoch=53, train loss=0.5191723331809044, valid loss=0.5661649107933044\n",
      "fold=3, epoch=54, train loss=0.5142891816794872, valid loss=0.5638757348060608\n",
      "fold=3, epoch=55, train loss=0.5161569342017174, valid loss=0.566047728061676\n",
      "fold=3, epoch=56, train loss=0.5162555165588856, valid loss=0.5660148561000824\n",
      "fold=3, epoch=57, train loss=0.5177640095353127, valid loss=0.5668405294418335\n",
      "fold=3, epoch=58, train loss=0.5257212109863758, valid loss=0.5652183294296265\n",
      "fold=3, epoch=59, train loss=0.516866747289896, valid loss=0.5722205340862274\n",
      "fold=3, epoch=60, train loss=0.5301941521465778, valid loss=0.5660032033920288\n",
      "fold=3, epoch=61, train loss=0.520292192697525, valid loss=0.5753903985023499\n",
      "fold=3, epoch=62, train loss=0.5160105004906654, valid loss=0.5655846297740936\n",
      "fold=3, epoch=63, train loss=0.5169048309326172, valid loss=0.5670334696769714\n",
      "fold=3, epoch=64, train loss=0.5162322446703911, valid loss=0.5667357742786407\n",
      "fold=3, epoch=65, train loss=0.5181629881262779, valid loss=0.5675657689571381\n",
      "fold=3, epoch=66, train loss=0.5156163237988949, valid loss=0.5675283670425415\n",
      "fold=3, epoch=67, train loss=0.5150499790906906, valid loss=0.5672185122966766\n",
      "fold=3, epoch=68, train loss=0.5170217305421829, valid loss=0.5658181309700012\n",
      "fold=3, epoch=69, train loss=0.5150837264955044, valid loss=0.5670156180858612\n",
      "fold=3, epoch=70, train loss=0.5141310803592205, valid loss=0.5676450431346893\n",
      "fold=3, epoch=71, train loss=0.5183971375226974, valid loss=0.568040281534195\n",
      "fold=3, epoch=72, train loss=0.5154235623776913, valid loss=0.569210410118103\n",
      "fold=3, epoch=73, train loss=0.5164929591119289, valid loss=0.5656634867191315\n",
      "fold=3, epoch=74, train loss=0.5120421461760998, valid loss=0.5708175599575043\n",
      "fold=3, epoch=75, train loss=0.5132469311356544, valid loss=0.5671476125717163\n",
      "fold=3, epoch=76, train loss=0.5177262499928474, valid loss=0.5684537887573242\n",
      "fold=3, epoch=77, train loss=0.5149928107857704, valid loss=0.5671557188034058\n",
      "fold=3, epoch=78, train loss=0.5135902240872383, valid loss=0.5682506263256073\n",
      "fold=3, epoch=79, train loss=0.5196935087442398, valid loss=0.568560779094696\n",
      "fold=3, epoch=80, train loss=0.5175753869116306, valid loss=0.5678735971450806\n",
      "fold=3, epoch=81, train loss=0.5193160958588123, valid loss=0.5704473555088043\n",
      "fold=3, epoch=82, train loss=0.5159853063523769, valid loss=0.5666582882404327\n",
      "fold=3, epoch=83, train loss=0.5175603367388248, valid loss=0.5688584744930267\n",
      "fold=3, epoch=84, train loss=0.5106988586485386, valid loss=0.5708311796188354\n",
      "fold=3, epoch=85, train loss=0.5144293755292892, valid loss=0.5669792890548706\n",
      "fold=3, epoch=86, train loss=0.5125196501612663, valid loss=0.5680144429206848\n",
      "fold=3, epoch=87, train loss=0.511039987206459, valid loss=0.5682787597179413\n",
      "fold=3, epoch=88, train loss=0.5134529657661915, valid loss=0.5691552460193634\n",
      "fold=3, epoch=89, train loss=0.5108098685741425, valid loss=0.5704633891582489\n",
      "fold=3, epoch=90, train loss=0.5196045897901058, valid loss=0.5680842399597168\n",
      "fold=3, epoch=91, train loss=0.5159974321722984, valid loss=0.5717650353908539\n",
      "fold=3, epoch=92, train loss=0.5122763104736805, valid loss=0.5677561461925507\n",
      "fold=3, epoch=93, train loss=0.5147066153585911, valid loss=0.5707869231700897\n",
      "fold=3, epoch=94, train loss=0.5136103108525276, valid loss=0.5691605508327484\n",
      "fold=3, epoch=95, train loss=0.5156754814088345, valid loss=0.5687989890575409\n",
      "fold=3, epoch=96, train loss=0.518392488360405, valid loss=0.5690408051013947\n",
      "fold=3, epoch=97, train loss=0.5199229195713997, valid loss=0.5722345113754272\n",
      "fold=3, epoch=98, train loss=0.5216181613504887, valid loss=0.5688779354095459\n",
      "fold=3, epoch=99, train loss=0.5125037170946598, valid loss=0.5738403499126434\n",
      "fold=4, epoch=0, train loss=0.6449307054281235, valid loss=0.6117591261863708\n",
      "fold=4, epoch=1, train loss=0.6038675904273987, valid loss=0.6638131439685822\n",
      "fold=4, epoch=2, train loss=0.5932662636041641, valid loss=0.6104218065738678\n",
      "fold=4, epoch=3, train loss=0.5832509398460388, valid loss=0.5964693427085876\n",
      "fold=4, epoch=4, train loss=0.5778227970004082, valid loss=0.5926159024238586\n",
      "fold=4, epoch=5, train loss=0.5684332326054573, valid loss=0.5863974094390869\n",
      "fold=4, epoch=6, train loss=0.5628409683704376, valid loss=0.580415278673172\n",
      "fold=4, epoch=7, train loss=0.555022619664669, valid loss=0.573764443397522\n",
      "fold=4, epoch=8, train loss=0.551438219845295, valid loss=0.566552609205246\n",
      "fold=4, epoch=9, train loss=0.5418454818427563, valid loss=0.5603462755680084\n",
      "fold=4, epoch=10, train loss=0.5439214147627354, valid loss=0.5638992786407471\n",
      "fold=4, epoch=11, train loss=0.5356020107865334, valid loss=0.5500196218490601\n",
      "fold=4, epoch=12, train loss=0.5398920141160488, valid loss=0.5596061050891876\n",
      "fold=4, epoch=13, train loss=0.5353969931602478, valid loss=0.5510531365871429\n",
      "fold=4, epoch=14, train loss=0.5355637520551682, valid loss=0.5541054010391235\n",
      "fold=4, epoch=15, train loss=0.5341606587171555, valid loss=0.5472728610038757\n",
      "fold=4, epoch=16, train loss=0.5319882184267044, valid loss=0.55178302526474\n",
      "fold=4, epoch=17, train loss=0.5397929549217224, valid loss=0.5519998967647552\n",
      "fold=4, epoch=18, train loss=0.5415809638798237, valid loss=0.5541432797908783\n",
      "fold=4, epoch=19, train loss=0.5297580882906914, valid loss=0.5595556497573853\n",
      "fold=4, epoch=20, train loss=0.5389265716075897, valid loss=0.5548799633979797\n",
      "fold=4, epoch=21, train loss=0.5345518514513969, valid loss=0.5536839663982391\n",
      "fold=4, epoch=22, train loss=0.5363897755742073, valid loss=0.5551511943340302\n",
      "fold=4, epoch=23, train loss=0.5365062244236469, valid loss=0.555907666683197\n",
      "fold=4, epoch=24, train loss=0.533334881067276, valid loss=0.5553246140480042\n",
      "fold=4, epoch=25, train loss=0.5367326997220516, valid loss=0.5616292953491211\n",
      "fold=4, epoch=26, train loss=0.5355864055454731, valid loss=0.5575198233127594\n",
      "fold=4, epoch=27, train loss=0.5330724865198135, valid loss=0.5587358474731445\n",
      "fold=4, epoch=28, train loss=0.532992672175169, valid loss=0.5572775900363922\n",
      "fold=4, epoch=29, train loss=0.5350109301507473, valid loss=0.5586059391498566\n",
      "fold=4, epoch=30, train loss=0.5337291061878204, valid loss=0.5584316849708557\n",
      "fold=4, epoch=31, train loss=0.5329523161053658, valid loss=0.5679540932178497\n",
      "fold=4, epoch=32, train loss=0.5315309911966324, valid loss=0.5641401410102844\n",
      "fold=4, epoch=33, train loss=0.531300351023674, valid loss=0.5580847263336182\n",
      "fold=4, epoch=34, train loss=0.5307984091341496, valid loss=0.562224268913269\n",
      "fold=4, epoch=35, train loss=0.5301963686943054, valid loss=0.5652205646038055\n",
      "fold=4, epoch=36, train loss=0.528409942984581, valid loss=0.5682543814182281\n",
      "fold=4, epoch=37, train loss=0.5306145213544369, valid loss=0.5658207535743713\n"
     ]
    },
    {
     "name": "stdout",
     "output_type": "stream",
     "text": [
      "fold=4, epoch=38, train loss=0.5350126773118973, valid loss=0.5657781362533569\n",
      "fold=4, epoch=39, train loss=0.5308949165046215, valid loss=0.5695166289806366\n",
      "fold=4, epoch=40, train loss=0.5301563665270805, valid loss=0.567036360502243\n",
      "fold=4, epoch=41, train loss=0.5310464687645435, valid loss=0.5659949779510498\n",
      "fold=4, epoch=42, train loss=0.5287193842232227, valid loss=0.5658998191356659\n",
      "fold=4, epoch=43, train loss=0.5301414430141449, valid loss=0.5680722594261169\n",
      "fold=4, epoch=44, train loss=0.530328243970871, valid loss=0.5675414204597473\n",
      "fold=4, epoch=45, train loss=0.5313251502811909, valid loss=0.5694147646427155\n",
      "fold=4, epoch=46, train loss=0.5281180180609226, valid loss=0.5677253305912018\n",
      "fold=4, epoch=47, train loss=0.5255521833896637, valid loss=0.5692318379878998\n",
      "fold=4, epoch=48, train loss=0.5285019688308239, valid loss=0.573924332857132\n",
      "fold=4, epoch=49, train loss=0.535243596881628, valid loss=0.5694453418254852\n",
      "fold=4, epoch=50, train loss=0.5316767916083336, valid loss=0.5655141174793243\n",
      "fold=4, epoch=51, train loss=0.5330568887293339, valid loss=0.5774257183074951\n",
      "fold=4, epoch=52, train loss=0.533731646835804, valid loss=0.5924907922744751\n",
      "fold=4, epoch=53, train loss=0.5301958993077278, valid loss=0.5780032575130463\n",
      "fold=4, epoch=54, train loss=0.5318581275641918, valid loss=0.5724728405475616\n",
      "fold=4, epoch=55, train loss=0.5287765488028526, valid loss=0.5728369653224945\n",
      "fold=4, epoch=56, train loss=0.5266512632369995, valid loss=0.5742572546005249\n",
      "fold=4, epoch=57, train loss=0.5330527722835541, valid loss=0.5752568244934082\n",
      "fold=4, epoch=58, train loss=0.5280100107192993, valid loss=0.5776054263114929\n",
      "fold=4, epoch=59, train loss=0.5268873050808907, valid loss=0.5742767155170441\n",
      "fold=4, epoch=60, train loss=0.5261717475950718, valid loss=0.5754397809505463\n",
      "fold=4, epoch=61, train loss=0.5274560749530792, valid loss=0.5777157247066498\n",
      "fold=4, epoch=62, train loss=0.5255334712564945, valid loss=0.5834645628929138\n",
      "fold=4, epoch=63, train loss=0.5278485417366028, valid loss=0.5788336098194122\n",
      "fold=4, epoch=64, train loss=0.5290204361081123, valid loss=0.5738966464996338\n",
      "fold=4, epoch=65, train loss=0.525928296148777, valid loss=0.5810662508010864\n",
      "fold=4, epoch=66, train loss=0.5238355323672295, valid loss=0.5844797790050507\n",
      "fold=4, epoch=67, train loss=0.5248016603291035, valid loss=0.5773569345474243\n",
      "fold=4, epoch=68, train loss=0.5254375226795673, valid loss=0.5819611251354218\n",
      "fold=4, epoch=69, train loss=0.5245010107755661, valid loss=0.574168860912323\n",
      "fold=4, epoch=70, train loss=0.52948447316885, valid loss=0.5761074423789978\n",
      "fold=4, epoch=71, train loss=0.5287800580263138, valid loss=0.5813639760017395\n",
      "fold=4, epoch=72, train loss=0.5233183763921261, valid loss=0.5821616649627686\n",
      "fold=4, epoch=73, train loss=0.5278880186378956, valid loss=0.5862104892730713\n",
      "fold=4, epoch=74, train loss=0.5281910337507725, valid loss=0.5806594789028168\n",
      "fold=4, epoch=75, train loss=0.5255586467683315, valid loss=0.5793235599994659\n",
      "fold=4, epoch=76, train loss=0.5222949460148811, valid loss=0.5802046358585358\n",
      "fold=4, epoch=77, train loss=0.5260231830179691, valid loss=0.5818197429180145\n",
      "fold=4, epoch=78, train loss=0.5262398347258568, valid loss=0.5817601978778839\n",
      "fold=4, epoch=79, train loss=0.526304267346859, valid loss=0.5873572826385498\n",
      "fold=4, epoch=80, train loss=0.524511780589819, valid loss=0.5821429193019867\n",
      "fold=4, epoch=81, train loss=0.5235573127865791, valid loss=0.5772906839847565\n",
      "fold=4, epoch=82, train loss=0.526740238070488, valid loss=0.588468074798584\n",
      "fold=4, epoch=83, train loss=0.5221225507557392, valid loss=0.5909205079078674\n",
      "fold=4, epoch=84, train loss=0.5244332440197468, valid loss=0.589343398809433\n",
      "fold=4, epoch=85, train loss=0.5189285464584827, valid loss=0.5960626304149628\n",
      "fold=4, epoch=86, train loss=0.5249980837106705, valid loss=0.5782219767570496\n",
      "fold=4, epoch=87, train loss=0.5314830653369427, valid loss=0.5849803984165192\n",
      "fold=4, epoch=88, train loss=0.5235022976994514, valid loss=0.5838860273361206\n",
      "fold=4, epoch=89, train loss=0.5243039168417454, valid loss=0.5877036452293396\n",
      "fold=4, epoch=90, train loss=0.5270154811441898, valid loss=0.5859731733798981\n",
      "fold=4, epoch=91, train loss=0.5238606110215187, valid loss=0.5853692889213562\n",
      "fold=4, epoch=92, train loss=0.5211953148245811, valid loss=0.5875059962272644\n",
      "fold=4, epoch=93, train loss=0.5198241993784904, valid loss=0.5940455794334412\n",
      "fold=4, epoch=94, train loss=0.5234841406345367, valid loss=0.5938324332237244\n",
      "fold=4, epoch=95, train loss=0.5201463997364044, valid loss=0.5868567824363708\n",
      "fold=4, epoch=96, train loss=0.5350936204195023, valid loss=0.5939570963382721\n",
      "fold=4, epoch=97, train loss=0.5232148729264736, valid loss=0.5847043097019196\n",
      "fold=4, epoch=98, train loss=0.5229927599430084, valid loss=0.5840990841388702\n",
      "fold=4, epoch=99, train loss=0.5220316089689732, valid loss=0.5954068601131439\n"
     ]
    }
   ],
   "source": [
    "DEVICE = torch.device(\"cuda\" if torch.cuda.is_available() else \"cpu\")\n",
    "EPOCHS = 100\n",
    "\n",
    "def run_nn(fold):\n",
    "    features_columns = df.drop([\"math score\", \"reading score\", \"writing score\", \"pass\"], axis=1).columns\n",
    "    \n",
    "    train_df = df[df.kfold != fold].reset_index(drop=True)\n",
    "    valid_df = df[df.kfold == fold].reset_index(drop=True)\n",
    "    \n",
    "    xtrain = train_df[features_columns].to_numpy()\n",
    "    ytrain = train_df[\"pass\"].to_numpy().reshape(-1, 1)\n",
    "    \n",
    "    xvalid = valid_df[features_columns].to_numpy()\n",
    "    yvalid = valid_df[\"pass\"].to_numpy().reshape(-1, 1)\n",
    "    \n",
    "    train_dataset = StudentPerformanceDataset(features=xtrain, targets=ytrain)\n",
    "    valid_dataset = StudentPerformanceDataset(features=xvalid, targets=yvalid)\n",
    "    \n",
    "    train_loader = torch.utils.data.DataLoader(train_dataset, batch_size=104, shuffle=True)\n",
    "    valid_loader = torch.utils.data.DataLoader(valid_dataset, batch_size=104)\n",
    "    \n",
    "    model = Model(\n",
    "        num_features=xtrain.shape[1], \n",
    "        hidden_size=15, \n",
    "        num_targets=ytrain.shape[1]\n",
    "    )\n",
    "    \n",
    "    model.to(DEVICE)\n",
    "    optimizer = torch.optim.Adam(model.parameters(), lr=0.01)\n",
    "    eng = Engine(model, optimizer, device=DEVICE)\n",
    "    \n",
    "    for epoch in range(EPOCHS):\n",
    "        train_loss = eng.train(train_loader)\n",
    "        valid_loss = eng.evaluate(valid_loader)\n",
    "        print(f\"Fold {fold} Epoch={epoch}: | Train loss: {train_loss:.3f} | Valid loss: {valid_loss:.3f}\")\n",
    "        \n",
    "for j in range(5):\n",
    "    run_nn(j)\n",
    "    "
   ]
  },
  {
   "cell_type": "code",
   "execution_count": null,
   "metadata": {
    "pycharm": {
     "name": "#%%\n"
    }
   },
   "outputs": [],
   "source": []
  },
  {
   "cell_type": "code",
   "execution_count": null,
   "metadata": {
    "pycharm": {
     "name": "#%%\n"
    }
   },
   "outputs": [],
   "source": []
  },
  {
   "cell_type": "code",
   "execution_count": null,
   "metadata": {
    "pycharm": {
     "name": "#%%\n"
    }
   },
   "outputs": [],
   "source": []
  },
  {
   "cell_type": "code",
   "execution_count": null,
   "metadata": {
    "pycharm": {
     "name": "#%%\n"
    }
   },
   "outputs": [],
   "source": []
  },
  {
   "cell_type": "code",
   "execution_count": null,
   "metadata": {
    "pycharm": {
     "name": "#%%\n"
    }
   },
   "outputs": [],
   "source": []
  },
  {
   "cell_type": "code",
   "execution_count": null,
   "metadata": {},
   "outputs": [],
   "source": []
  },
  {
   "cell_type": "code",
   "execution_count": null,
   "metadata": {},
   "outputs": [],
   "source": []
  },
  {
   "cell_type": "code",
   "execution_count": null,
   "metadata": {},
   "outputs": [],
   "source": []
  },
  {
   "cell_type": "code",
   "execution_count": null,
   "metadata": {},
   "outputs": [],
   "source": []
  },
  {
   "cell_type": "code",
   "execution_count": null,
   "metadata": {},
   "outputs": [],
   "source": []
  },
  {
   "cell_type": "code",
   "execution_count": null,
   "metadata": {},
   "outputs": [],
   "source": []
  },
  {
   "cell_type": "code",
   "execution_count": null,
   "metadata": {},
   "outputs": [],
   "source": []
  },
  {
   "cell_type": "code",
   "execution_count": null,
   "metadata": {},
   "outputs": [],
   "source": []
  },
  {
   "cell_type": "code",
   "execution_count": null,
   "metadata": {},
   "outputs": [],
   "source": []
  },
  {
   "cell_type": "code",
   "execution_count": null,
   "metadata": {},
   "outputs": [],
   "source": []
  },
  {
   "cell_type": "code",
   "execution_count": null,
   "metadata": {},
   "outputs": [],
   "source": []
  },
  {
   "cell_type": "code",
   "execution_count": null,
   "metadata": {},
   "outputs": [],
   "source": []
  },
  {
   "cell_type": "code",
   "execution_count": null,
   "metadata": {},
   "outputs": [],
   "source": []
  },
  {
   "cell_type": "code",
   "execution_count": null,
   "metadata": {},
   "outputs": [],
   "source": []
  }
 ],
 "metadata": {
  "kernelspec": {
   "display_name": "Python 3",
   "language": "python",
   "name": "python3"
  },
  "language_info": {
   "codemirror_mode": {
    "name": "ipython",
    "version": 3
   },
   "file_extension": ".py",
   "mimetype": "text/x-python",
   "name": "python",
   "nbconvert_exporter": "python",
   "pygments_lexer": "ipython3",
   "version": "3.8.3"
  }
 },
 "nbformat": 4,
 "nbformat_minor": 1
}
